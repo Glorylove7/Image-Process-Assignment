{
 "cells": [
  {
   "metadata": {
    "ExecuteTime": {
     "end_time": "2025-05-28T06:32:30.152426Z",
     "start_time": "2025-05-28T06:32:17.798213Z"
    }
   },
   "cell_type": "code",
   "source": [
    "import cv2\n",
    "import os\n",
    "sr = cv2.dnn_superres.DnnSuperResImpl_create()\n",
    "sr.readModel('EDSR_x4.pb')\n",
    "sr.setModel('edsr', 4)\n",
    "input_folder = \"cropped_plates\"\n",
    "output_folder = \"upscale_cropped_plates\"\n",
    "os.makedirs(output_folder, exist_ok=True)\n",
    "\n",
    "# 批量处理图片\n",
    "for filename in os.listdir(input_folder):\n",
    "    if filename.lower().endswith(('.jpg', '.png', '.jpeg', '.bmp')):\n",
    "        img_path = os.path.join(input_folder, filename)\n",
    "        img = cv2.imread(img_path)\n",
    "        if img is None:\n",
    "            continue\n",
    "        upscaled = sr.upsample(img)\n",
    "        out_path = os.path.join(output_folder, filename)\n",
    "        cv2.imwrite(out_path, upscaled)\n",
    "\n",
    "print(\"处理完成，图片已增强保存。\")"
   ],
   "id": "b4d0e7da1e019f78",
   "outputs": [
    {
     "name": "stdout",
     "output_type": "stream",
     "text": [
      "处理完成，图片已增强保存。\n"
     ]
    }
   ],
   "execution_count": 20
  },
  {
   "metadata": {
    "ExecuteTime": {
     "end_time": "2025-05-28T06:45:10.605568Z",
     "start_time": "2025-05-28T06:45:07.372745Z"
    }
   },
   "cell_type": "code",
   "source": [
    "import os\n",
    "import cv2\n",
    "import numpy as np\n",
    "\n",
    "# 设置输入输出文件夹路径\n",
    "input_folder = 'upscale_cropped_plates'   # 替换为你的图片文件夹路径\n",
    "output_folder = 'larger_upscale_cropped_plates' # 替换为你想保存新图像的路径\n",
    "os.makedirs(output_folder, exist_ok=True)\n",
    "\n",
    "# 背景大小\n",
    "background_size = (5000, 5000)\n",
    "\n",
    "# 遍历所有图片\n",
    "for filename in os.listdir(input_folder):\n",
    "    if filename.lower().endswith(('.png', '.jpg', '.jpeg', '.bmp', '.tiff')):\n",
    "        img_path = os.path.join(input_folder, filename)\n",
    "        img = cv2.imread(img_path)\n",
    "\n",
    "        if img is None:\n",
    "            print(f\"无法读取图像: {filename}\")\n",
    "            continue\n",
    "\n",
    "        h, w = img.shape[:2]\n",
    "\n",
    "        # 创建纯黑背景图像\n",
    "        background = np.zeros((background_size[1], background_size[0], 3), dtype=np.uint8)\n",
    "\n",
    "        # 计算左上角插入坐标（居中）\n",
    "        y_offset = (background_size[1] - h) // 2\n",
    "        x_offset = (background_size[0] - w) // 2\n",
    "\n",
    "        # 将原图插入到背景图中\n",
    "        background[y_offset:y_offset+h, x_offset:x_offset+w] = img\n",
    "\n",
    "        # 保存新图像\n",
    "        output_path = os.path.join(output_folder, filename)\n",
    "        cv2.imwrite(output_path, background)\n",
    "\n",
    "print(\"所有图片已处理并保存完毕。\")\n"
   ],
   "id": "83394a0dcbef5efd",
   "outputs": [
    {
     "name": "stdout",
     "output_type": "stream",
     "text": [
      "所有图片已处理并保存完毕。\n"
     ]
    }
   ],
   "execution_count": 32
  },
  {
   "metadata": {},
   "cell_type": "code",
   "outputs": [],
   "execution_count": null,
   "source": [
    "from paddleocr import PaddleOCR\n",
    "ocr = PaddleOCR(\n",
    "    use_doc_orientation_classify=False,\n",
    "    use_doc_unwarping=False,\n",
    "    use_textline_orientation=False)\n",
    "# 对示例图像执行 OCR 推理\n",
    "result = ocr.predict(\n",
    "    input=\"larger_upscale_cropped_plates\")\n",
    "for res in result:\n",
    "    print(res['rec_texts'])\n"
   ],
   "id": "cc1ea5eeb2569cc4"
  }
 ],
 "metadata": {
  "kernelspec": {
   "display_name": "Python 3",
   "language": "python",
   "name": "python3"
  },
  "language_info": {
   "codemirror_mode": {
    "name": "ipython",
    "version": 2
   },
   "file_extension": ".py",
   "mimetype": "text/x-python",
   "name": "python",
   "nbconvert_exporter": "python",
   "pygments_lexer": "ipython2",
   "version": "2.7.6"
  }
 },
 "nbformat": 4,
 "nbformat_minor": 5
}
