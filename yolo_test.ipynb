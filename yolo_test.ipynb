{
 "cells": [
  {
   "cell_type": "code",
   "id": "initial_id",
   "metadata": {
    "collapsed": true,
    "ExecuteTime": {
     "end_time": "2025-06-03T18:44:57.506094Z",
     "start_time": "2025-06-03T18:44:52.480586Z"
    }
   },
   "source": [
    "import os\n",
    "os.environ['CUDA_VISIBLE_DEVICES']='0'\n",
    "from ultralytics import YOLO"
   ],
   "outputs": [],
   "execution_count": 1
  },
  {
   "metadata": {
    "ExecuteTime": {
     "end_time": "2025-06-03T18:45:05.240184Z",
     "start_time": "2025-06-03T18:45:04.722435Z"
    }
   },
   "cell_type": "code",
   "source": "model=YOLO('yolo11m.pt')",
   "id": "52b62abfe6ff6640",
   "outputs": [],
   "execution_count": 2
  },
  {
   "metadata": {
    "ExecuteTime": {
     "end_time": "2025-05-21T15:38:34.908793Z",
     "start_time": "2025-05-21T15:38:34.906357Z"
    }
   },
   "cell_type": "code",
   "source": [
    "results = model.train(data=r\"\"\"C:\\Users\\TRZ\\OneDrive - TR'sTeam\\Dasanxia\\merged_dataset\\data.yaml\"\"\",\n",
    "                      epochs=120,\n",
    "                      imgsz=640,\n",
    "                      device=0)"
   ],
   "id": "b9c8fa050faf747d",
   "outputs": [],
   "execution_count": null
  },
  {
   "metadata": {
    "ExecuteTime": {
     "end_time": "2025-05-23T05:42:26.089580Z",
     "start_time": "2025-05-23T05:42:26.083233Z"
    }
   },
   "cell_type": "code",
   "source": "",
   "id": "93467527e83ac27c",
   "outputs": [],
   "execution_count": null
  },
  {
   "metadata": {
    "ExecuteTime": {
     "end_time": "2025-05-21T15:38:34.936191Z",
     "start_time": "2025-05-21T15:38:34.933389Z"
    }
   },
   "cell_type": "code",
   "source": "",
   "id": "100abf7a8655df91",
   "outputs": [],
   "execution_count": null
  }
 ],
 "metadata": {
  "kernelspec": {
   "display_name": "Python 3",
   "language": "python",
   "name": "python3"
  },
  "language_info": {
   "codemirror_mode": {
    "name": "ipython",
    "version": 2
   },
   "file_extension": ".py",
   "mimetype": "text/x-python",
   "name": "python",
   "nbconvert_exporter": "python",
   "pygments_lexer": "ipython2",
   "version": "2.7.6"
  }
 },
 "nbformat": 4,
 "nbformat_minor": 5
}
